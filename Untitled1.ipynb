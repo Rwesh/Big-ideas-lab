{
 "cells": [
  {
   "cell_type": "code",
   "execution_count": 7,
   "metadata": {},
   "outputs": [],
   "source": [
    "def file_input(name, other_input):\n",
    "    with open(\"output.txt\", \"w\") as file: \n",
    "        file.write(f\"Name:{name}\\n\")\n",
    "        file.write(f\"Other input:{other_input}\\n\")\n",
    "    print(\"Data has been writtten to output.txt\")\n",
    "\n",
    "def main():\n",
    "    name = input(\"Enter your name: \")\n",
    "    other_input = input(\"Enter some other input: \")\n",
    "    file_input(name, other_input)\n",
    "    "
   ]
  },
  {
   "cell_type": "code",
   "execution_count": null,
   "metadata": {},
   "outputs": [],
   "source": []
  }
 ],
 "metadata": {
  "kernelspec": {
   "display_name": "Python 3",
   "language": "python",
   "name": "python3"
  },
  "language_info": {
   "codemirror_mode": {
    "name": "ipython",
    "version": 3
   },
   "file_extension": ".py",
   "mimetype": "text/x-python",
   "name": "python",
   "nbconvert_exporter": "python",
   "pygments_lexer": "ipython3",
   "version": "3.8.3"
  }
 },
 "nbformat": 4,
 "nbformat_minor": 4
}
